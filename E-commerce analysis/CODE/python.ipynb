{
 "cells": [
  {
   "cell_type": "markdown",
   "metadata": {},
   "source": [
    "# ML Capstone Project E-Commerce"
   ]
  },
  {
   "cell_type": "markdown",
   "metadata": {},
   "source": [
    "### Import Libreries"
   ]
  },
  {
   "cell_type": "code",
   "execution_count": 4,
   "metadata": {},
   "outputs": [
    {
     "name": "stdout",
     "output_type": "stream",
     "text": [
      "Defaulting to user installation because normal site-packages is not writeable\n",
      "Requirement already satisfied: scikit-learn in c:\\users\\gourav vijay gaikwad\\appdata\\roaming\\python\\python312\\site-packages (1.4.2)\n",
      "Requirement already satisfied: numpy>=1.19.5 in c:\\users\\gourav vijay gaikwad\\appdata\\roaming\\python\\python312\\site-packages (from scikit-learn) (1.26.2)\n",
      "Requirement already satisfied: scipy>=1.6.0 in c:\\users\\gourav vijay gaikwad\\appdata\\roaming\\python\\python312\\site-packages (from scikit-learn) (1.13.0)\n",
      "Requirement already satisfied: joblib>=1.2.0 in c:\\users\\gourav vijay gaikwad\\appdata\\roaming\\python\\python312\\site-packages (from scikit-learn) (1.4.0)\n",
      "Requirement already satisfied: threadpoolctl>=2.0.0 in c:\\users\\gourav vijay gaikwad\\appdata\\roaming\\python\\python312\\site-packages (from scikit-learn) (3.4.0)\n"
     ]
    },
    {
     "name": "stderr",
     "output_type": "stream",
     "text": [
      "\n",
      "[notice] A new release of pip is available: 23.3.2 -> 24.0\n",
      "[notice] To update, run: python.exe -m pip install --upgrade pip\n"
     ]
    }
   ],
   "source": [
    "! pip install scikit-learn"
   ]
  },
  {
   "cell_type": "code",
   "execution_count": 5,
   "metadata": {},
   "outputs": [],
   "source": [
    "import numpy as np\n",
    "import pandas as pd\n",
    "import matplotlib.pyplot as plt\n",
    "import seaborn as sn"
   ]
  },
  {
   "cell_type": "markdown",
   "metadata": {},
   "source": [
    "## Introduction"
   ]
  },
  {
   "cell_type": "markdown",
   "metadata": {},
   "source": [
    "The electronics store's dataset focuses on customer purchase history, aiming to improve marketing strategies and customer experience in its e-commerce platform. By analyzing this data, the store aims to better understand customer behaviors and preferences, ultimately increasing sales and fostering customer loyalty through targeted marketing and enhanced user experience."
   ]
  },
  {
   "cell_type": "markdown",
   "metadata": {},
   "source": [
    "## Business Problem "
   ]
  },
  {
   "cell_type": "markdown",
   "metadata": {},
   "source": [
    "Based on the data, we aim to refine marketing strategies by identifying customer preferences and behavior patterns. Additionally, we seek to improve customer experience through personalized recommendations and streamlined purchasing processes."
   ]
  },
  {
   "cell_type": "markdown",
   "metadata": {},
   "source": [
    "## Data Dictionary"
   ]
  },
  {
   "cell_type": "code",
   "execution_count": 6,
   "metadata": {},
   "outputs": [
    {
     "data": {
      "text/html": [
       "<div>\n",
       "<style scoped>\n",
       "    .dataframe tbody tr th:only-of-type {\n",
       "        vertical-align: middle;\n",
       "    }\n",
       "\n",
       "    .dataframe tbody tr th {\n",
       "        vertical-align: top;\n",
       "    }\n",
       "\n",
       "    .dataframe thead th {\n",
       "        text-align: right;\n",
       "    }\n",
       "</style>\n",
       "<table border=\"1\" class=\"dataframe\">\n",
       "  <thead>\n",
       "    <tr style=\"text-align: right;\">\n",
       "      <th></th>\n",
       "      <th>Column_Name</th>\n",
       "      <th>Description</th>\n",
       "    </tr>\n",
       "  </thead>\n",
       "  <tbody>\n",
       "    <tr>\n",
       "      <th>0</th>\n",
       "      <td>event_time</td>\n",
       "      <td>Represents the timestamp indicating the Repres...</td>\n",
       "    </tr>\n",
       "    <tr>\n",
       "      <th>1</th>\n",
       "      <td>order_id</td>\n",
       "      <td>A unique identifier assigned to each order, fa...</td>\n",
       "    </tr>\n",
       "    <tr>\n",
       "      <th>2</th>\n",
       "      <td>product_id</td>\n",
       "      <td>Unique identification for each product purcha...</td>\n",
       "    </tr>\n",
       "    <tr>\n",
       "      <th>3</th>\n",
       "      <td>category_id</td>\n",
       "      <td>An exclusive identifier for the category of ea...</td>\n",
       "    </tr>\n",
       "    <tr>\n",
       "      <th>4</th>\n",
       "      <td>category_code</td>\n",
       "      <td>Possibly a textual or descriptive representati...</td>\n",
       "    </tr>\n",
       "    <tr>\n",
       "      <th>5</th>\n",
       "      <td>brand</td>\n",
       "      <td>Signifies the brand of the product, important ...</td>\n",
       "    </tr>\n",
       "    <tr>\n",
       "      <th>6</th>\n",
       "      <td>price</td>\n",
       "      <td>The selling price of the product. Essential fo...</td>\n",
       "    </tr>\n",
       "    <tr>\n",
       "      <th>7</th>\n",
       "      <td>user_id</td>\n",
       "      <td>A distinctive identifier assigned to each cust...</td>\n",
       "    </tr>\n",
       "  </tbody>\n",
       "</table>\n",
       "</div>"
      ],
      "text/plain": [
       "     Column_Name                                        Description\n",
       "0     event_time  Represents the timestamp indicating the Repres...\n",
       "1       order_id  A unique identifier assigned to each order, fa...\n",
       "2     product_id   Unique identification for each product purcha...\n",
       "3    category_id  An exclusive identifier for the category of ea...\n",
       "4  category_code  Possibly a textual or descriptive representati...\n",
       "5          brand  Signifies the brand of the product, important ...\n",
       "6          price  The selling price of the product. Essential fo...\n",
       "7        user_id  A distinctive identifier assigned to each cust..."
      ]
     },
     "execution_count": 6,
     "metadata": {},
     "output_type": "execute_result"
    }
   ],
   "source": [
    "import pandas as pd\n",
    "# Use a raw string literal or double backslashes in the file path\n",
    "data_dict_path = r'C:\\Users\\Gourav vijay Gaikwad\\Downloads\\E-commerce analysis\\DATA DICTIONARY\\data-dic.csv'\n",
    "\n",
    "# Read the data dictionary into a pandas DataFrame\n",
    "data_dict = pd.read_csv(data_dict_path)\n",
    "\n",
    "# Display the data dictionary\n",
    "data_dict"
   ]
  },
  {
   "cell_type": "markdown",
   "metadata": {},
   "source": [
    "### Data Ingestion"
   ]
  },
  {
   "cell_type": "code",
   "execution_count": 7,
   "metadata": {},
   "outputs": [
    {
     "data": {
      "text/html": [
       "<div>\n",
       "<style scoped>\n",
       "    .dataframe tbody tr th:only-of-type {\n",
       "        vertical-align: middle;\n",
       "    }\n",
       "\n",
       "    .dataframe tbody tr th {\n",
       "        vertical-align: top;\n",
       "    }\n",
       "\n",
       "    .dataframe thead th {\n",
       "        text-align: right;\n",
       "    }\n",
       "</style>\n",
       "<table border=\"1\" class=\"dataframe\">\n",
       "  <thead>\n",
       "    <tr style=\"text-align: right;\">\n",
       "      <th></th>\n",
       "      <th>event_time</th>\n",
       "      <th>order_id</th>\n",
       "      <th>product_id</th>\n",
       "      <th>category_id</th>\n",
       "      <th>category_code</th>\n",
       "      <th>brand</th>\n",
       "      <th>price</th>\n",
       "      <th>user_id</th>\n",
       "    </tr>\n",
       "  </thead>\n",
       "  <tbody>\n",
       "    <tr>\n",
       "      <th>0</th>\n",
       "      <td>2020-04-24 11:50:39 UTC</td>\n",
       "      <td>2294359932054536986</td>\n",
       "      <td>1515966223509089906</td>\n",
       "      <td>2.268105e+18</td>\n",
       "      <td>electronics.tablet</td>\n",
       "      <td>samsung</td>\n",
       "      <td>162.01</td>\n",
       "      <td>1.515916e+18</td>\n",
       "    </tr>\n",
       "    <tr>\n",
       "      <th>1</th>\n",
       "      <td>2020-04-24 11:50:39 UTC</td>\n",
       "      <td>2294359932054536986</td>\n",
       "      <td>1515966223509089906</td>\n",
       "      <td>2.268105e+18</td>\n",
       "      <td>electronics.tablet</td>\n",
       "      <td>samsung</td>\n",
       "      <td>162.01</td>\n",
       "      <td>1.515916e+18</td>\n",
       "    </tr>\n",
       "    <tr>\n",
       "      <th>2</th>\n",
       "      <td>2020-04-24 14:37:43 UTC</td>\n",
       "      <td>2294444024058086220</td>\n",
       "      <td>2273948319057183658</td>\n",
       "      <td>2.268105e+18</td>\n",
       "      <td>electronics.audio.headphone</td>\n",
       "      <td>huawei</td>\n",
       "      <td>77.52</td>\n",
       "      <td>1.515916e+18</td>\n",
       "    </tr>\n",
       "    <tr>\n",
       "      <th>3</th>\n",
       "      <td>2020-04-24 14:37:43 UTC</td>\n",
       "      <td>2294444024058086220</td>\n",
       "      <td>2273948319057183658</td>\n",
       "      <td>2.268105e+18</td>\n",
       "      <td>electronics.audio.headphone</td>\n",
       "      <td>huawei</td>\n",
       "      <td>77.52</td>\n",
       "      <td>1.515916e+18</td>\n",
       "    </tr>\n",
       "    <tr>\n",
       "      <th>4</th>\n",
       "      <td>2020-04-24 19:16:21 UTC</td>\n",
       "      <td>2294584263154074236</td>\n",
       "      <td>2273948316817424439</td>\n",
       "      <td>2.268105e+18</td>\n",
       "      <td>NaN</td>\n",
       "      <td>karcher</td>\n",
       "      <td>217.57</td>\n",
       "      <td>1.515916e+18</td>\n",
       "    </tr>\n",
       "    <tr>\n",
       "      <th>...</th>\n",
       "      <td>...</td>\n",
       "      <td>...</td>\n",
       "      <td>...</td>\n",
       "      <td>...</td>\n",
       "      <td>...</td>\n",
       "      <td>...</td>\n",
       "      <td>...</td>\n",
       "      <td>...</td>\n",
       "    </tr>\n",
       "    <tr>\n",
       "      <th>2633516</th>\n",
       "      <td>2020-11-21 10:10:01 UTC</td>\n",
       "      <td>2388440981134693942</td>\n",
       "      <td>1515966223526602848</td>\n",
       "      <td>2.268105e+18</td>\n",
       "      <td>electronics.smartphone</td>\n",
       "      <td>oppo</td>\n",
       "      <td>138.87</td>\n",
       "      <td>1.515916e+18</td>\n",
       "    </tr>\n",
       "    <tr>\n",
       "      <th>2633517</th>\n",
       "      <td>2020-11-21 10:10:13 UTC</td>\n",
       "      <td>2388440981134693943</td>\n",
       "      <td>1515966223509089282</td>\n",
       "      <td>2.268105e+18</td>\n",
       "      <td>electronics.smartphone</td>\n",
       "      <td>apple</td>\n",
       "      <td>418.96</td>\n",
       "      <td>1.515916e+18</td>\n",
       "    </tr>\n",
       "    <tr>\n",
       "      <th>2633518</th>\n",
       "      <td>2020-11-21 10:10:30 UTC</td>\n",
       "      <td>2388440981134693944</td>\n",
       "      <td>1515966223509089917</td>\n",
       "      <td>2.268105e+18</td>\n",
       "      <td>appliances.personal.scales</td>\n",
       "      <td>vitek</td>\n",
       "      <td>12.48</td>\n",
       "      <td>1.515916e+18</td>\n",
       "    </tr>\n",
       "    <tr>\n",
       "      <th>2633519</th>\n",
       "      <td>2020-11-21 10:10:30 UTC</td>\n",
       "      <td>2388440981134693944</td>\n",
       "      <td>2273948184839454837</td>\n",
       "      <td>2.268105e+18</td>\n",
       "      <td>NaN</td>\n",
       "      <td>moulinex</td>\n",
       "      <td>41.64</td>\n",
       "      <td>1.515916e+18</td>\n",
       "    </tr>\n",
       "    <tr>\n",
       "      <th>2633520</th>\n",
       "      <td>2020-11-21 10:10:30 UTC</td>\n",
       "      <td>2388440981134693944</td>\n",
       "      <td>1515966223509127566</td>\n",
       "      <td>2.268105e+18</td>\n",
       "      <td>appliances.kitchen.blender</td>\n",
       "      <td>redmond</td>\n",
       "      <td>53.22</td>\n",
       "      <td>1.515916e+18</td>\n",
       "    </tr>\n",
       "  </tbody>\n",
       "</table>\n",
       "<p>2633521 rows × 8 columns</p>\n",
       "</div>"
      ],
      "text/plain": [
       "                      event_time             order_id           product_id  \\\n",
       "0        2020-04-24 11:50:39 UTC  2294359932054536986  1515966223509089906   \n",
       "1        2020-04-24 11:50:39 UTC  2294359932054536986  1515966223509089906   \n",
       "2        2020-04-24 14:37:43 UTC  2294444024058086220  2273948319057183658   \n",
       "3        2020-04-24 14:37:43 UTC  2294444024058086220  2273948319057183658   \n",
       "4        2020-04-24 19:16:21 UTC  2294584263154074236  2273948316817424439   \n",
       "...                          ...                  ...                  ...   \n",
       "2633516  2020-11-21 10:10:01 UTC  2388440981134693942  1515966223526602848   \n",
       "2633517  2020-11-21 10:10:13 UTC  2388440981134693943  1515966223509089282   \n",
       "2633518  2020-11-21 10:10:30 UTC  2388440981134693944  1515966223509089917   \n",
       "2633519  2020-11-21 10:10:30 UTC  2388440981134693944  2273948184839454837   \n",
       "2633520  2020-11-21 10:10:30 UTC  2388440981134693944  1515966223509127566   \n",
       "\n",
       "          category_id                category_code     brand   price  \\\n",
       "0        2.268105e+18           electronics.tablet   samsung  162.01   \n",
       "1        2.268105e+18           electronics.tablet   samsung  162.01   \n",
       "2        2.268105e+18  electronics.audio.headphone    huawei   77.52   \n",
       "3        2.268105e+18  electronics.audio.headphone    huawei   77.52   \n",
       "4        2.268105e+18                          NaN   karcher  217.57   \n",
       "...               ...                          ...       ...     ...   \n",
       "2633516  2.268105e+18       electronics.smartphone      oppo  138.87   \n",
       "2633517  2.268105e+18       electronics.smartphone     apple  418.96   \n",
       "2633518  2.268105e+18   appliances.personal.scales     vitek   12.48   \n",
       "2633519  2.268105e+18                          NaN  moulinex   41.64   \n",
       "2633520  2.268105e+18   appliances.kitchen.blender   redmond   53.22   \n",
       "\n",
       "              user_id  \n",
       "0        1.515916e+18  \n",
       "1        1.515916e+18  \n",
       "2        1.515916e+18  \n",
       "3        1.515916e+18  \n",
       "4        1.515916e+18  \n",
       "...               ...  \n",
       "2633516  1.515916e+18  \n",
       "2633517  1.515916e+18  \n",
       "2633518  1.515916e+18  \n",
       "2633519  1.515916e+18  \n",
       "2633520  1.515916e+18  \n",
       "\n",
       "[2633521 rows x 8 columns]"
      ]
     },
     "execution_count": 7,
     "metadata": {},
     "output_type": "execute_result"
    }
   ],
   "source": [
    "data=pd.read_csv(r'C:\\Users\\Gourav vijay Gaikwad\\Downloads\\E-commerce analysis\\DATA SET\\E-commerce dataset.csv')\n",
    "data"
   ]
  },
  {
   "cell_type": "markdown",
   "metadata": {},
   "source": [
    "### Data Understanding"
   ]
  },
  {
   "cell_type": "code",
   "execution_count": 8,
   "metadata": {},
   "outputs": [
    {
     "data": {
      "text/html": [
       "<div>\n",
       "<style scoped>\n",
       "    .dataframe tbody tr th:only-of-type {\n",
       "        vertical-align: middle;\n",
       "    }\n",
       "\n",
       "    .dataframe tbody tr th {\n",
       "        vertical-align: top;\n",
       "    }\n",
       "\n",
       "    .dataframe thead th {\n",
       "        text-align: right;\n",
       "    }\n",
       "</style>\n",
       "<table border=\"1\" class=\"dataframe\">\n",
       "  <thead>\n",
       "    <tr style=\"text-align: right;\">\n",
       "      <th></th>\n",
       "      <th>event_time</th>\n",
       "      <th>order_id</th>\n",
       "      <th>product_id</th>\n",
       "      <th>category_id</th>\n",
       "      <th>category_code</th>\n",
       "      <th>brand</th>\n",
       "      <th>price</th>\n",
       "      <th>user_id</th>\n",
       "    </tr>\n",
       "  </thead>\n",
       "  <tbody>\n",
       "    <tr>\n",
       "      <th>0</th>\n",
       "      <td>2020-04-24 11:50:39 UTC</td>\n",
       "      <td>2294359932054536986</td>\n",
       "      <td>1515966223509089906</td>\n",
       "      <td>2.268105e+18</td>\n",
       "      <td>electronics.tablet</td>\n",
       "      <td>samsung</td>\n",
       "      <td>162.01</td>\n",
       "      <td>1.515916e+18</td>\n",
       "    </tr>\n",
       "    <tr>\n",
       "      <th>1</th>\n",
       "      <td>2020-04-24 11:50:39 UTC</td>\n",
       "      <td>2294359932054536986</td>\n",
       "      <td>1515966223509089906</td>\n",
       "      <td>2.268105e+18</td>\n",
       "      <td>electronics.tablet</td>\n",
       "      <td>samsung</td>\n",
       "      <td>162.01</td>\n",
       "      <td>1.515916e+18</td>\n",
       "    </tr>\n",
       "    <tr>\n",
       "      <th>2</th>\n",
       "      <td>2020-04-24 14:37:43 UTC</td>\n",
       "      <td>2294444024058086220</td>\n",
       "      <td>2273948319057183658</td>\n",
       "      <td>2.268105e+18</td>\n",
       "      <td>electronics.audio.headphone</td>\n",
       "      <td>huawei</td>\n",
       "      <td>77.52</td>\n",
       "      <td>1.515916e+18</td>\n",
       "    </tr>\n",
       "    <tr>\n",
       "      <th>3</th>\n",
       "      <td>2020-04-24 14:37:43 UTC</td>\n",
       "      <td>2294444024058086220</td>\n",
       "      <td>2273948319057183658</td>\n",
       "      <td>2.268105e+18</td>\n",
       "      <td>electronics.audio.headphone</td>\n",
       "      <td>huawei</td>\n",
       "      <td>77.52</td>\n",
       "      <td>1.515916e+18</td>\n",
       "    </tr>\n",
       "    <tr>\n",
       "      <th>4</th>\n",
       "      <td>2020-04-24 19:16:21 UTC</td>\n",
       "      <td>2294584263154074236</td>\n",
       "      <td>2273948316817424439</td>\n",
       "      <td>2.268105e+18</td>\n",
       "      <td>NaN</td>\n",
       "      <td>karcher</td>\n",
       "      <td>217.57</td>\n",
       "      <td>1.515916e+18</td>\n",
       "    </tr>\n",
       "  </tbody>\n",
       "</table>\n",
       "</div>"
      ],
      "text/plain": [
       "                event_time             order_id           product_id  \\\n",
       "0  2020-04-24 11:50:39 UTC  2294359932054536986  1515966223509089906   \n",
       "1  2020-04-24 11:50:39 UTC  2294359932054536986  1515966223509089906   \n",
       "2  2020-04-24 14:37:43 UTC  2294444024058086220  2273948319057183658   \n",
       "3  2020-04-24 14:37:43 UTC  2294444024058086220  2273948319057183658   \n",
       "4  2020-04-24 19:16:21 UTC  2294584263154074236  2273948316817424439   \n",
       "\n",
       "    category_id                category_code    brand   price       user_id  \n",
       "0  2.268105e+18           electronics.tablet  samsung  162.01  1.515916e+18  \n",
       "1  2.268105e+18           electronics.tablet  samsung  162.01  1.515916e+18  \n",
       "2  2.268105e+18  electronics.audio.headphone   huawei   77.52  1.515916e+18  \n",
       "3  2.268105e+18  electronics.audio.headphone   huawei   77.52  1.515916e+18  \n",
       "4  2.268105e+18                          NaN  karcher  217.57  1.515916e+18  "
      ]
     },
     "execution_count": 8,
     "metadata": {},
     "output_type": "execute_result"
    }
   ],
   "source": [
    "data.head()"
   ]
  },
  {
   "cell_type": "code",
   "execution_count": 9,
   "metadata": {},
   "outputs": [
    {
     "data": {
      "text/html": [
       "<div>\n",
       "<style scoped>\n",
       "    .dataframe tbody tr th:only-of-type {\n",
       "        vertical-align: middle;\n",
       "    }\n",
       "\n",
       "    .dataframe tbody tr th {\n",
       "        vertical-align: top;\n",
       "    }\n",
       "\n",
       "    .dataframe thead th {\n",
       "        text-align: right;\n",
       "    }\n",
       "</style>\n",
       "<table border=\"1\" class=\"dataframe\">\n",
       "  <thead>\n",
       "    <tr style=\"text-align: right;\">\n",
       "      <th></th>\n",
       "      <th>event_time</th>\n",
       "      <th>order_id</th>\n",
       "      <th>product_id</th>\n",
       "      <th>category_id</th>\n",
       "      <th>category_code</th>\n",
       "      <th>brand</th>\n",
       "      <th>price</th>\n",
       "      <th>user_id</th>\n",
       "    </tr>\n",
       "  </thead>\n",
       "  <tbody>\n",
       "    <tr>\n",
       "      <th>2633516</th>\n",
       "      <td>2020-11-21 10:10:01 UTC</td>\n",
       "      <td>2388440981134693942</td>\n",
       "      <td>1515966223526602848</td>\n",
       "      <td>2.268105e+18</td>\n",
       "      <td>electronics.smartphone</td>\n",
       "      <td>oppo</td>\n",
       "      <td>138.87</td>\n",
       "      <td>1.515916e+18</td>\n",
       "    </tr>\n",
       "    <tr>\n",
       "      <th>2633517</th>\n",
       "      <td>2020-11-21 10:10:13 UTC</td>\n",
       "      <td>2388440981134693943</td>\n",
       "      <td>1515966223509089282</td>\n",
       "      <td>2.268105e+18</td>\n",
       "      <td>electronics.smartphone</td>\n",
       "      <td>apple</td>\n",
       "      <td>418.96</td>\n",
       "      <td>1.515916e+18</td>\n",
       "    </tr>\n",
       "    <tr>\n",
       "      <th>2633518</th>\n",
       "      <td>2020-11-21 10:10:30 UTC</td>\n",
       "      <td>2388440981134693944</td>\n",
       "      <td>1515966223509089917</td>\n",
       "      <td>2.268105e+18</td>\n",
       "      <td>appliances.personal.scales</td>\n",
       "      <td>vitek</td>\n",
       "      <td>12.48</td>\n",
       "      <td>1.515916e+18</td>\n",
       "    </tr>\n",
       "    <tr>\n",
       "      <th>2633519</th>\n",
       "      <td>2020-11-21 10:10:30 UTC</td>\n",
       "      <td>2388440981134693944</td>\n",
       "      <td>2273948184839454837</td>\n",
       "      <td>2.268105e+18</td>\n",
       "      <td>NaN</td>\n",
       "      <td>moulinex</td>\n",
       "      <td>41.64</td>\n",
       "      <td>1.515916e+18</td>\n",
       "    </tr>\n",
       "    <tr>\n",
       "      <th>2633520</th>\n",
       "      <td>2020-11-21 10:10:30 UTC</td>\n",
       "      <td>2388440981134693944</td>\n",
       "      <td>1515966223509127566</td>\n",
       "      <td>2.268105e+18</td>\n",
       "      <td>appliances.kitchen.blender</td>\n",
       "      <td>redmond</td>\n",
       "      <td>53.22</td>\n",
       "      <td>1.515916e+18</td>\n",
       "    </tr>\n",
       "  </tbody>\n",
       "</table>\n",
       "</div>"
      ],
      "text/plain": [
       "                      event_time             order_id           product_id  \\\n",
       "2633516  2020-11-21 10:10:01 UTC  2388440981134693942  1515966223526602848   \n",
       "2633517  2020-11-21 10:10:13 UTC  2388440981134693943  1515966223509089282   \n",
       "2633518  2020-11-21 10:10:30 UTC  2388440981134693944  1515966223509089917   \n",
       "2633519  2020-11-21 10:10:30 UTC  2388440981134693944  2273948184839454837   \n",
       "2633520  2020-11-21 10:10:30 UTC  2388440981134693944  1515966223509127566   \n",
       "\n",
       "          category_id               category_code     brand   price  \\\n",
       "2633516  2.268105e+18      electronics.smartphone      oppo  138.87   \n",
       "2633517  2.268105e+18      electronics.smartphone     apple  418.96   \n",
       "2633518  2.268105e+18  appliances.personal.scales     vitek   12.48   \n",
       "2633519  2.268105e+18                         NaN  moulinex   41.64   \n",
       "2633520  2.268105e+18  appliances.kitchen.blender   redmond   53.22   \n",
       "\n",
       "              user_id  \n",
       "2633516  1.515916e+18  \n",
       "2633517  1.515916e+18  \n",
       "2633518  1.515916e+18  \n",
       "2633519  1.515916e+18  \n",
       "2633520  1.515916e+18  "
      ]
     },
     "execution_count": 9,
     "metadata": {},
     "output_type": "execute_result"
    }
   ],
   "source": [
    "data.tail()"
   ]
  },
  {
   "cell_type": "code",
   "execution_count": 10,
   "metadata": {},
   "outputs": [
    {
     "data": {
      "text/html": [
       "<div>\n",
       "<style scoped>\n",
       "    .dataframe tbody tr th:only-of-type {\n",
       "        vertical-align: middle;\n",
       "    }\n",
       "\n",
       "    .dataframe tbody tr th {\n",
       "        vertical-align: top;\n",
       "    }\n",
       "\n",
       "    .dataframe thead th {\n",
       "        text-align: right;\n",
       "    }\n",
       "</style>\n",
       "<table border=\"1\" class=\"dataframe\">\n",
       "  <thead>\n",
       "    <tr style=\"text-align: right;\">\n",
       "      <th></th>\n",
       "      <th>order_id</th>\n",
       "      <th>product_id</th>\n",
       "      <th>category_id</th>\n",
       "      <th>price</th>\n",
       "      <th>user_id</th>\n",
       "    </tr>\n",
       "  </thead>\n",
       "  <tbody>\n",
       "    <tr>\n",
       "      <th>count</th>\n",
       "      <td>2.633521e+06</td>\n",
       "      <td>2.633521e+06</td>\n",
       "      <td>2.201567e+06</td>\n",
       "      <td>2.201567e+06</td>\n",
       "      <td>5.641690e+05</td>\n",
       "    </tr>\n",
       "    <tr>\n",
       "      <th>mean</th>\n",
       "      <td>2.361783e+18</td>\n",
       "      <td>1.674080e+18</td>\n",
       "      <td>2.273827e+18</td>\n",
       "      <td>1.540932e+02</td>\n",
       "      <td>1.515916e+18</td>\n",
       "    </tr>\n",
       "    <tr>\n",
       "      <th>std</th>\n",
       "      <td>1.716538e+16</td>\n",
       "      <td>3.102249e+17</td>\n",
       "      <td>2.353247e+16</td>\n",
       "      <td>2.419421e+02</td>\n",
       "      <td>2.377083e+07</td>\n",
       "    </tr>\n",
       "    <tr>\n",
       "      <th>min</th>\n",
       "      <td>2.294360e+18</td>\n",
       "      <td>1.515966e+18</td>\n",
       "      <td>2.268105e+18</td>\n",
       "      <td>0.000000e+00</td>\n",
       "      <td>1.515916e+18</td>\n",
       "    </tr>\n",
       "    <tr>\n",
       "      <th>25%</th>\n",
       "      <td>2.348807e+18</td>\n",
       "      <td>1.515966e+18</td>\n",
       "      <td>2.268105e+18</td>\n",
       "      <td>1.456000e+01</td>\n",
       "      <td>1.515916e+18</td>\n",
       "    </tr>\n",
       "    <tr>\n",
       "      <th>50%</th>\n",
       "      <td>2.353254e+18</td>\n",
       "      <td>1.515966e+18</td>\n",
       "      <td>2.268105e+18</td>\n",
       "      <td>5.553000e+01</td>\n",
       "      <td>1.515916e+18</td>\n",
       "    </tr>\n",
       "    <tr>\n",
       "      <th>75%</th>\n",
       "      <td>2.383131e+18</td>\n",
       "      <td>1.515966e+18</td>\n",
       "      <td>2.268105e+18</td>\n",
       "      <td>1.967400e+02</td>\n",
       "      <td>1.515916e+18</td>\n",
       "    </tr>\n",
       "    <tr>\n",
       "      <th>max</th>\n",
       "      <td>2.388441e+18</td>\n",
       "      <td>2.388434e+18</td>\n",
       "      <td>2.374499e+18</td>\n",
       "      <td>5.092590e+04</td>\n",
       "      <td>1.515916e+18</td>\n",
       "    </tr>\n",
       "  </tbody>\n",
       "</table>\n",
       "</div>"
      ],
      "text/plain": [
       "           order_id    product_id   category_id         price       user_id\n",
       "count  2.633521e+06  2.633521e+06  2.201567e+06  2.201567e+06  5.641690e+05\n",
       "mean   2.361783e+18  1.674080e+18  2.273827e+18  1.540932e+02  1.515916e+18\n",
       "std    1.716538e+16  3.102249e+17  2.353247e+16  2.419421e+02  2.377083e+07\n",
       "min    2.294360e+18  1.515966e+18  2.268105e+18  0.000000e+00  1.515916e+18\n",
       "25%    2.348807e+18  1.515966e+18  2.268105e+18  1.456000e+01  1.515916e+18\n",
       "50%    2.353254e+18  1.515966e+18  2.268105e+18  5.553000e+01  1.515916e+18\n",
       "75%    2.383131e+18  1.515966e+18  2.268105e+18  1.967400e+02  1.515916e+18\n",
       "max    2.388441e+18  2.388434e+18  2.374499e+18  5.092590e+04  1.515916e+18"
      ]
     },
     "execution_count": 10,
     "metadata": {},
     "output_type": "execute_result"
    }
   ],
   "source": [
    "data.describe()"
   ]
  },
  {
   "cell_type": "code",
   "execution_count": 11,
   "metadata": {},
   "outputs": [
    {
     "name": "stdout",
     "output_type": "stream",
     "text": [
      "<class 'pandas.core.frame.DataFrame'>\n",
      "RangeIndex: 2633521 entries, 0 to 2633520\n",
      "Data columns (total 8 columns):\n",
      " #   Column         Dtype  \n",
      "---  ------         -----  \n",
      " 0   event_time     object \n",
      " 1   order_id       int64  \n",
      " 2   product_id     int64  \n",
      " 3   category_id    float64\n",
      " 4   category_code  object \n",
      " 5   brand          object \n",
      " 6   price          float64\n",
      " 7   user_id        float64\n",
      "dtypes: float64(3), int64(2), object(3)\n",
      "memory usage: 160.7+ MB\n"
     ]
    }
   ],
   "source": [
    "data.info()"
   ]
  },
  {
   "cell_type": "markdown",
   "metadata": {},
   "source": [
    "### Data Cleaning"
   ]
  },
  {
   "cell_type": "markdown",
   "metadata": {},
   "source": [
    "### Handle Duplicates"
   ]
  },
  {
   "cell_type": "code",
   "execution_count": 12,
   "metadata": {},
   "outputs": [
    {
     "data": {
      "text/html": [
       "<div>\n",
       "<style scoped>\n",
       "    .dataframe tbody tr th:only-of-type {\n",
       "        vertical-align: middle;\n",
       "    }\n",
       "\n",
       "    .dataframe tbody tr th {\n",
       "        vertical-align: top;\n",
       "    }\n",
       "\n",
       "    .dataframe thead th {\n",
       "        text-align: right;\n",
       "    }\n",
       "</style>\n",
       "<table border=\"1\" class=\"dataframe\">\n",
       "  <thead>\n",
       "    <tr style=\"text-align: right;\">\n",
       "      <th></th>\n",
       "      <th>event_time</th>\n",
       "      <th>order_id</th>\n",
       "      <th>product_id</th>\n",
       "      <th>category_id</th>\n",
       "      <th>category_code</th>\n",
       "      <th>brand</th>\n",
       "      <th>price</th>\n",
       "      <th>user_id</th>\n",
       "    </tr>\n",
       "  </thead>\n",
       "  <tbody>\n",
       "    <tr>\n",
       "      <th>0</th>\n",
       "      <td>2020-04-24 11:50:39 UTC</td>\n",
       "      <td>2294359932054536986</td>\n",
       "      <td>1515966223509089906</td>\n",
       "      <td>2.268105e+18</td>\n",
       "      <td>electronics.tablet</td>\n",
       "      <td>samsung</td>\n",
       "      <td>162.01</td>\n",
       "      <td>1.515916e+18</td>\n",
       "    </tr>\n",
       "    <tr>\n",
       "      <th>2</th>\n",
       "      <td>2020-04-24 14:37:43 UTC</td>\n",
       "      <td>2294444024058086220</td>\n",
       "      <td>2273948319057183658</td>\n",
       "      <td>2.268105e+18</td>\n",
       "      <td>electronics.audio.headphone</td>\n",
       "      <td>huawei</td>\n",
       "      <td>77.52</td>\n",
       "      <td>1.515916e+18</td>\n",
       "    </tr>\n",
       "    <tr>\n",
       "      <th>4</th>\n",
       "      <td>2020-04-24 19:16:21 UTC</td>\n",
       "      <td>2294584263154074236</td>\n",
       "      <td>2273948316817424439</td>\n",
       "      <td>2.268105e+18</td>\n",
       "      <td>NaN</td>\n",
       "      <td>karcher</td>\n",
       "      <td>217.57</td>\n",
       "      <td>1.515916e+18</td>\n",
       "    </tr>\n",
       "    <tr>\n",
       "      <th>5</th>\n",
       "      <td>2020-04-26 08:45:57 UTC</td>\n",
       "      <td>2295716521449619559</td>\n",
       "      <td>1515966223509261697</td>\n",
       "      <td>2.268105e+18</td>\n",
       "      <td>furniture.kitchen.table</td>\n",
       "      <td>maestro</td>\n",
       "      <td>39.33</td>\n",
       "      <td>1.515916e+18</td>\n",
       "    </tr>\n",
       "    <tr>\n",
       "      <th>6</th>\n",
       "      <td>2020-04-26 09:33:47 UTC</td>\n",
       "      <td>2295740594749702229</td>\n",
       "      <td>1515966223509104892</td>\n",
       "      <td>2.268105e+18</td>\n",
       "      <td>electronics.smartphone</td>\n",
       "      <td>apple</td>\n",
       "      <td>1387.01</td>\n",
       "      <td>1.515916e+18</td>\n",
       "    </tr>\n",
       "    <tr>\n",
       "      <th>...</th>\n",
       "      <td>...</td>\n",
       "      <td>...</td>\n",
       "      <td>...</td>\n",
       "      <td>...</td>\n",
       "      <td>...</td>\n",
       "      <td>...</td>\n",
       "      <td>...</td>\n",
       "      <td>...</td>\n",
       "    </tr>\n",
       "    <tr>\n",
       "      <th>2633516</th>\n",
       "      <td>2020-11-21 10:10:01 UTC</td>\n",
       "      <td>2388440981134693942</td>\n",
       "      <td>1515966223526602848</td>\n",
       "      <td>2.268105e+18</td>\n",
       "      <td>electronics.smartphone</td>\n",
       "      <td>oppo</td>\n",
       "      <td>138.87</td>\n",
       "      <td>1.515916e+18</td>\n",
       "    </tr>\n",
       "    <tr>\n",
       "      <th>2633517</th>\n",
       "      <td>2020-11-21 10:10:13 UTC</td>\n",
       "      <td>2388440981134693943</td>\n",
       "      <td>1515966223509089282</td>\n",
       "      <td>2.268105e+18</td>\n",
       "      <td>electronics.smartphone</td>\n",
       "      <td>apple</td>\n",
       "      <td>418.96</td>\n",
       "      <td>1.515916e+18</td>\n",
       "    </tr>\n",
       "    <tr>\n",
       "      <th>2633518</th>\n",
       "      <td>2020-11-21 10:10:30 UTC</td>\n",
       "      <td>2388440981134693944</td>\n",
       "      <td>1515966223509089917</td>\n",
       "      <td>2.268105e+18</td>\n",
       "      <td>appliances.personal.scales</td>\n",
       "      <td>vitek</td>\n",
       "      <td>12.48</td>\n",
       "      <td>1.515916e+18</td>\n",
       "    </tr>\n",
       "    <tr>\n",
       "      <th>2633519</th>\n",
       "      <td>2020-11-21 10:10:30 UTC</td>\n",
       "      <td>2388440981134693944</td>\n",
       "      <td>2273948184839454837</td>\n",
       "      <td>2.268105e+18</td>\n",
       "      <td>NaN</td>\n",
       "      <td>moulinex</td>\n",
       "      <td>41.64</td>\n",
       "      <td>1.515916e+18</td>\n",
       "    </tr>\n",
       "    <tr>\n",
       "      <th>2633520</th>\n",
       "      <td>2020-11-21 10:10:30 UTC</td>\n",
       "      <td>2388440981134693944</td>\n",
       "      <td>1515966223509127566</td>\n",
       "      <td>2.268105e+18</td>\n",
       "      <td>appliances.kitchen.blender</td>\n",
       "      <td>redmond</td>\n",
       "      <td>53.22</td>\n",
       "      <td>1.515916e+18</td>\n",
       "    </tr>\n",
       "  </tbody>\n",
       "</table>\n",
       "<p>2632846 rows × 8 columns</p>\n",
       "</div>"
      ],
      "text/plain": [
       "                      event_time             order_id           product_id  \\\n",
       "0        2020-04-24 11:50:39 UTC  2294359932054536986  1515966223509089906   \n",
       "2        2020-04-24 14:37:43 UTC  2294444024058086220  2273948319057183658   \n",
       "4        2020-04-24 19:16:21 UTC  2294584263154074236  2273948316817424439   \n",
       "5        2020-04-26 08:45:57 UTC  2295716521449619559  1515966223509261697   \n",
       "6        2020-04-26 09:33:47 UTC  2295740594749702229  1515966223509104892   \n",
       "...                          ...                  ...                  ...   \n",
       "2633516  2020-11-21 10:10:01 UTC  2388440981134693942  1515966223526602848   \n",
       "2633517  2020-11-21 10:10:13 UTC  2388440981134693943  1515966223509089282   \n",
       "2633518  2020-11-21 10:10:30 UTC  2388440981134693944  1515966223509089917   \n",
       "2633519  2020-11-21 10:10:30 UTC  2388440981134693944  2273948184839454837   \n",
       "2633520  2020-11-21 10:10:30 UTC  2388440981134693944  1515966223509127566   \n",
       "\n",
       "          category_id                category_code     brand    price  \\\n",
       "0        2.268105e+18           electronics.tablet   samsung   162.01   \n",
       "2        2.268105e+18  electronics.audio.headphone    huawei    77.52   \n",
       "4        2.268105e+18                          NaN   karcher   217.57   \n",
       "5        2.268105e+18      furniture.kitchen.table   maestro    39.33   \n",
       "6        2.268105e+18       electronics.smartphone     apple  1387.01   \n",
       "...               ...                          ...       ...      ...   \n",
       "2633516  2.268105e+18       electronics.smartphone      oppo   138.87   \n",
       "2633517  2.268105e+18       electronics.smartphone     apple   418.96   \n",
       "2633518  2.268105e+18   appliances.personal.scales     vitek    12.48   \n",
       "2633519  2.268105e+18                          NaN  moulinex    41.64   \n",
       "2633520  2.268105e+18   appliances.kitchen.blender   redmond    53.22   \n",
       "\n",
       "              user_id  \n",
       "0        1.515916e+18  \n",
       "2        1.515916e+18  \n",
       "4        1.515916e+18  \n",
       "5        1.515916e+18  \n",
       "6        1.515916e+18  \n",
       "...               ...  \n",
       "2633516  1.515916e+18  \n",
       "2633517  1.515916e+18  \n",
       "2633518  1.515916e+18  \n",
       "2633519  1.515916e+18  \n",
       "2633520  1.515916e+18  \n",
       "\n",
       "[2632846 rows x 8 columns]"
      ]
     },
     "execution_count": 12,
     "metadata": {},
     "output_type": "execute_result"
    }
   ],
   "source": [
    "data.drop_duplicates()"
   ]
  },
  {
   "cell_type": "markdown",
   "metadata": {},
   "source": [
    "### Null Value Treatment"
   ]
  },
  {
   "cell_type": "code",
   "execution_count": 13,
   "metadata": {},
   "outputs": [
    {
     "data": {
      "text/html": [
       "<div>\n",
       "<style scoped>\n",
       "    .dataframe tbody tr th:only-of-type {\n",
       "        vertical-align: middle;\n",
       "    }\n",
       "\n",
       "    .dataframe tbody tr th {\n",
       "        vertical-align: top;\n",
       "    }\n",
       "\n",
       "    .dataframe thead th {\n",
       "        text-align: right;\n",
       "    }\n",
       "</style>\n",
       "<table border=\"1\" class=\"dataframe\">\n",
       "  <thead>\n",
       "    <tr style=\"text-align: right;\">\n",
       "      <th></th>\n",
       "      <th>event_time</th>\n",
       "      <th>order_id</th>\n",
       "      <th>product_id</th>\n",
       "      <th>category_id</th>\n",
       "      <th>category_code</th>\n",
       "      <th>brand</th>\n",
       "      <th>price</th>\n",
       "      <th>user_id</th>\n",
       "    </tr>\n",
       "  </thead>\n",
       "  <tbody>\n",
       "    <tr>\n",
       "      <th>0</th>\n",
       "      <td>2020-04-24 11:50:39 UTC</td>\n",
       "      <td>2294359932054536986</td>\n",
       "      <td>1515966223509089906</td>\n",
       "      <td>2.268105e+18</td>\n",
       "      <td>electronics.tablet</td>\n",
       "      <td>samsung</td>\n",
       "      <td>162.01</td>\n",
       "      <td>1.515916e+18</td>\n",
       "    </tr>\n",
       "    <tr>\n",
       "      <th>1</th>\n",
       "      <td>2020-04-24 11:50:39 UTC</td>\n",
       "      <td>2294359932054536986</td>\n",
       "      <td>1515966223509089906</td>\n",
       "      <td>2.268105e+18</td>\n",
       "      <td>electronics.tablet</td>\n",
       "      <td>samsung</td>\n",
       "      <td>162.01</td>\n",
       "      <td>1.515916e+18</td>\n",
       "    </tr>\n",
       "    <tr>\n",
       "      <th>2</th>\n",
       "      <td>2020-04-24 14:37:43 UTC</td>\n",
       "      <td>2294444024058086220</td>\n",
       "      <td>2273948319057183658</td>\n",
       "      <td>2.268105e+18</td>\n",
       "      <td>electronics.audio.headphone</td>\n",
       "      <td>huawei</td>\n",
       "      <td>77.52</td>\n",
       "      <td>1.515916e+18</td>\n",
       "    </tr>\n",
       "    <tr>\n",
       "      <th>3</th>\n",
       "      <td>2020-04-24 14:37:43 UTC</td>\n",
       "      <td>2294444024058086220</td>\n",
       "      <td>2273948319057183658</td>\n",
       "      <td>2.268105e+18</td>\n",
       "      <td>electronics.audio.headphone</td>\n",
       "      <td>huawei</td>\n",
       "      <td>77.52</td>\n",
       "      <td>1.515916e+18</td>\n",
       "    </tr>\n",
       "    <tr>\n",
       "      <th>5</th>\n",
       "      <td>2020-04-26 08:45:57 UTC</td>\n",
       "      <td>2295716521449619559</td>\n",
       "      <td>1515966223509261697</td>\n",
       "      <td>2.268105e+18</td>\n",
       "      <td>furniture.kitchen.table</td>\n",
       "      <td>maestro</td>\n",
       "      <td>39.33</td>\n",
       "      <td>1.515916e+18</td>\n",
       "    </tr>\n",
       "    <tr>\n",
       "      <th>...</th>\n",
       "      <td>...</td>\n",
       "      <td>...</td>\n",
       "      <td>...</td>\n",
       "      <td>...</td>\n",
       "      <td>...</td>\n",
       "      <td>...</td>\n",
       "      <td>...</td>\n",
       "      <td>...</td>\n",
       "    </tr>\n",
       "    <tr>\n",
       "      <th>2633515</th>\n",
       "      <td>2020-11-21 10:08:54 UTC</td>\n",
       "      <td>2388440981134693941</td>\n",
       "      <td>1515966223509088622</td>\n",
       "      <td>2.374499e+18</td>\n",
       "      <td>electronics.video.tv</td>\n",
       "      <td>lg</td>\n",
       "      <td>370.35</td>\n",
       "      <td>1.515916e+18</td>\n",
       "    </tr>\n",
       "    <tr>\n",
       "      <th>2633516</th>\n",
       "      <td>2020-11-21 10:10:01 UTC</td>\n",
       "      <td>2388440981134693942</td>\n",
       "      <td>1515966223526602848</td>\n",
       "      <td>2.268105e+18</td>\n",
       "      <td>electronics.smartphone</td>\n",
       "      <td>oppo</td>\n",
       "      <td>138.87</td>\n",
       "      <td>1.515916e+18</td>\n",
       "    </tr>\n",
       "    <tr>\n",
       "      <th>2633517</th>\n",
       "      <td>2020-11-21 10:10:13 UTC</td>\n",
       "      <td>2388440981134693943</td>\n",
       "      <td>1515966223509089282</td>\n",
       "      <td>2.268105e+18</td>\n",
       "      <td>electronics.smartphone</td>\n",
       "      <td>apple</td>\n",
       "      <td>418.96</td>\n",
       "      <td>1.515916e+18</td>\n",
       "    </tr>\n",
       "    <tr>\n",
       "      <th>2633518</th>\n",
       "      <td>2020-11-21 10:10:30 UTC</td>\n",
       "      <td>2388440981134693944</td>\n",
       "      <td>1515966223509089917</td>\n",
       "      <td>2.268105e+18</td>\n",
       "      <td>appliances.personal.scales</td>\n",
       "      <td>vitek</td>\n",
       "      <td>12.48</td>\n",
       "      <td>1.515916e+18</td>\n",
       "    </tr>\n",
       "    <tr>\n",
       "      <th>2633520</th>\n",
       "      <td>2020-11-21 10:10:30 UTC</td>\n",
       "      <td>2388440981134693944</td>\n",
       "      <td>1515966223509127566</td>\n",
       "      <td>2.268105e+18</td>\n",
       "      <td>appliances.kitchen.blender</td>\n",
       "      <td>redmond</td>\n",
       "      <td>53.22</td>\n",
       "      <td>1.515916e+18</td>\n",
       "    </tr>\n",
       "  </tbody>\n",
       "</table>\n",
       "<p>420718 rows × 8 columns</p>\n",
       "</div>"
      ],
      "text/plain": [
       "                      event_time             order_id           product_id  \\\n",
       "0        2020-04-24 11:50:39 UTC  2294359932054536986  1515966223509089906   \n",
       "1        2020-04-24 11:50:39 UTC  2294359932054536986  1515966223509089906   \n",
       "2        2020-04-24 14:37:43 UTC  2294444024058086220  2273948319057183658   \n",
       "3        2020-04-24 14:37:43 UTC  2294444024058086220  2273948319057183658   \n",
       "5        2020-04-26 08:45:57 UTC  2295716521449619559  1515966223509261697   \n",
       "...                          ...                  ...                  ...   \n",
       "2633515  2020-11-21 10:08:54 UTC  2388440981134693941  1515966223509088622   \n",
       "2633516  2020-11-21 10:10:01 UTC  2388440981134693942  1515966223526602848   \n",
       "2633517  2020-11-21 10:10:13 UTC  2388440981134693943  1515966223509089282   \n",
       "2633518  2020-11-21 10:10:30 UTC  2388440981134693944  1515966223509089917   \n",
       "2633520  2020-11-21 10:10:30 UTC  2388440981134693944  1515966223509127566   \n",
       "\n",
       "          category_id                category_code    brand   price  \\\n",
       "0        2.268105e+18           electronics.tablet  samsung  162.01   \n",
       "1        2.268105e+18           electronics.tablet  samsung  162.01   \n",
       "2        2.268105e+18  electronics.audio.headphone   huawei   77.52   \n",
       "3        2.268105e+18  electronics.audio.headphone   huawei   77.52   \n",
       "5        2.268105e+18      furniture.kitchen.table  maestro   39.33   \n",
       "...               ...                          ...      ...     ...   \n",
       "2633515  2.374499e+18         electronics.video.tv       lg  370.35   \n",
       "2633516  2.268105e+18       electronics.smartphone     oppo  138.87   \n",
       "2633517  2.268105e+18       electronics.smartphone    apple  418.96   \n",
       "2633518  2.268105e+18   appliances.personal.scales    vitek   12.48   \n",
       "2633520  2.268105e+18   appliances.kitchen.blender  redmond   53.22   \n",
       "\n",
       "              user_id  \n",
       "0        1.515916e+18  \n",
       "1        1.515916e+18  \n",
       "2        1.515916e+18  \n",
       "3        1.515916e+18  \n",
       "5        1.515916e+18  \n",
       "...               ...  \n",
       "2633515  1.515916e+18  \n",
       "2633516  1.515916e+18  \n",
       "2633517  1.515916e+18  \n",
       "2633518  1.515916e+18  \n",
       "2633520  1.515916e+18  \n",
       "\n",
       "[420718 rows x 8 columns]"
      ]
     },
     "execution_count": 13,
     "metadata": {},
     "output_type": "execute_result"
    }
   ],
   "source": [
    "data.dropna()"
   ]
  },
  {
   "cell_type": "markdown",
   "metadata": {},
   "source": [
    "### Data Type Corrections"
   ]
  },
  {
   "cell_type": "code",
   "execution_count": 14,
   "metadata": {},
   "outputs": [
    {
     "name": "stdout",
     "output_type": "stream",
     "text": [
      "event_time       datetime64[ns, UTC]\n",
      "order_id                       int64\n",
      "product_id                     int64\n",
      "category_id                  float64\n",
      "category_code                 object\n",
      "brand                         object\n",
      "price                        float64\n",
      "user_id                      float64\n",
      "dtype: object\n"
     ]
    }
   ],
   "source": [
    "data['event_time']=pd.to_datetime(data['event_time'])\n",
    "data['price']=data['price'].astype(float)\n",
    "print(data.dtypes)"
   ]
  },
  {
   "cell_type": "markdown",
   "metadata": {},
   "source": [
    "### Distribution For X col"
   ]
  },
  {
   "cell_type": "code",
   "execution_count": 15,
   "metadata": {},
   "outputs": [
    {
     "data": {
      "image/png": "[encoded data removed]",
      "text/plain": [
       "<Figure size 500x500 with 1 Axes>"
      ]
     },
     "metadata": {},
     "output_type": "display_data"
    }
   ],
   "source": [
    "import matplotlib.pyplot as plt\n",
    "\n",
    "plt.figure(figsize=(5,5))\n",
    "plt.hist(data['price'], bins=30, color='green', edgecolor='black',alpha=0.7)\n",
    "plt.title('Distribution of Price')\n",
    "plt.xlabel('Price')\n",
    "plt.ylabel('Frequency')\n",
    "plt.show()"
   ]
  },
  {
   "cell_type": "code",
   "execution_count": 16,
   "metadata": {},
   "outputs": [
    {
     "data": {
      "image/png": "[encoded data removed]",
      "text/plain": [
       "<Figure size 500x400 with 1 Axes>"
      ]
     },
     "metadata": {},
     "output_type": "display_data"
    }
   ],
   "source": [
    "import matplotlib.pyplot as plt\n",
    "plt.figure(figsize=(5,4))\n",
    "plt.hist(data['event_time'],color='skyblue',bins=30,edgecolor='black')\n",
    "plt.title('Distribution of Event Time')\n",
    "plt.xlabel('Event_time')\n",
    "plt.ylabel('Frequency')\n",
    "plt.show()"
   ]
  },
  {
   "cell_type": "markdown",
   "metadata": {},
   "source": [
    "Conclusion"
   ]
  },
  {
   "cell_type": "markdown",
   "metadata": {},
   "source": [
    "The distribution of prices appears to be right-skewed, with a majority of products being priced at lower values and fewer products at higher prices. Regarding the distribution of event times, there seems to be variation in purchase activity over time, potentially indicating periods of higher and lower customer engagement with the e-commerce platform."
   ]
  },
  {
   "cell_type": "markdown",
   "metadata": {},
   "source": [
    "### Relation-Scatter Plot/Heat Map"
   ]
  },
  {
   "cell_type": "code",
   "execution_count": 17,
   "metadata": {},
   "outputs": [
    {
     "data": {
      "image/png": "[encoded data removed]",
      "text/plain": [
       "<Figure size 600x500 with 1 Axes>"
      ]
     },
     "metadata": {},
     "output_type": "display_data"
    }
   ],
   "source": [
    "import matplotlib.pyplot as plt \n",
    "\n",
    "plt.figure(figsize=(6,5))\n",
    "plt.scatter(data['event_time'], data['price'], alpha=0.5, color='blue')\n",
    "plt.title('Scatter Plot of Event Time vs Price')\n",
    "plt.xlabel('Event Time', color='skyblue')\n",
    "plt.ylabel('Price', color='brown')\n",
    "plt.show()\n"
   ]
  },
  {
   "cell_type": "markdown",
   "metadata": {},
   "source": [
    "### Problem Statements"
   ]
  },
  {
   "cell_type": "markdown",
   "metadata": {},
   "source": [
    "How do daily purchase patterns vary throughout the week?\n",
    "Can we identify any irregularities in order fulfillment using order IDs?\n",
    "Which products have the highest sales volume, based on product IDs?\n",
    "Are there any categories with significantly higher sales compared to others?\n",
    "How does the textual representation of product categories impact sales?\n",
    "Which brands are most preferred by customers?\n",
    "Is there a correlation between product prices and sales volume?\n",
    "How many unique customers have made purchases within the dataset?\n",
    "What are the purchasing behaviors of individual customers?\n",
    "Can we identify any trends or patterns in user demographics?\n",
    "Are there any price points that attract more customers?\n",
    "How do sales differ between weekdays and weekends?\n",
    "Which product categories contribute the most to overall revenue?\n",
    "Are there any product categories experiencing a decline in sales?\n",
    "Can we segment customers based on their purchase history and preferences?"
   ]
  },
  {
   "cell_type": "markdown",
   "metadata": {},
   "source": [
    "Problem Statement:1"
   ]
  },
  {
   "cell_type": "code",
   "execution_count": 18,
   "metadata": {},
   "outputs": [
    {
     "data": {
      "image/png": "[encoded data removed]",
      "text/plain": [
       "<Figure size 500x500 with 1 Axes>"
      ]
     },
     "metadata": {},
     "output_type": "display_data"
    }
   ],
   "source": [
    "#convert event_time to date time format\n",
    "data['event_time']=pd.to_datetime(data['event_time'])\n",
    "#Extract day of week from event time\n",
    "data['day_of_week']=data['event_time'].dt.day_name()\n",
    "#Exploratory Data Analysis (EDA)\n",
    "# Daily purchase patterns\n",
    "daily_purchase_pattern=data.groupby('day_of_week').size()\n",
    "\n",
    "# visualize daily perchase pattern\n",
    "\n",
    "import matplotlib.pyplot as plt\n",
    "\n",
    "plt.figure(figsize=(5,5,))\n",
    "daily_purchase_pattern.plot(kind='bar')\n",
    "plt.title('Daily Purchase Pattern')\n",
    "plt.xlabel('day_of_week')\n",
    "plt.ylabel('Number Of Purchases')\n",
    "plt.xticks(rotation=45)\n",
    "plt.show()\n"
   ]
  },
  {
   "cell_type": "markdown",
   "metadata": {},
   "source": [
    "Problem Statement:2"
   ]
  },
  {
   "cell_type": "code",
   "execution_count": 19,
   "metadata": {},
   "outputs": [
    {
     "data": {
      "image/png": "[encoded data removed]",
      "text/plain": [
       "<Figure size 640x480 with 1 Axes>"
      ]
     },
     "metadata": {},
     "output_type": "display_data"
    }
   ],
   "source": [
    "# checking for duplicate order ids\n",
    "duplicate_orders=data[data.duplicated(subset='order_id',keep=False)]\n",
    "\n",
    "#Analyze order fulfillment time\n",
    "data['order_fulfillment_time'] = data.groupby('order_id')['event_time'].transform(lambda x: x.max() - x.min())\n",
    "# Visualize order fulfillment time\n",
    "plt.hist(data['order_fulfillment_time'].dt.total_seconds() / 3600, bins=20)\n",
    "plt.xlabel('Order Fulfillment Time (hours)')\n",
    "plt.ylabel('Frequency')\n",
    "plt.title('Distribution of Order Fulfillment Time')\n",
    "plt.show()\n"
   ]
  },
  {
   "cell_type": "markdown",
   "metadata": {},
   "source": [
    "Problem Statement:3"
   ]
  },
  {
   "cell_type": "code",
   "execution_count": 20,
   "metadata": {},
   "outputs": [
    {
     "name": "stdout",
     "output_type": "stream",
     "text": [
      "Top Products by Sales Volume:\n",
      "product_id\n",
      "1515966223523303302    44491\n",
      "1515966223523303301    41076\n",
      "1515966223523303308    38786\n",
      "1515966223523303310    38472\n",
      "1515966223523303314    36530\n",
      "Name: count, dtype: int64\n"
     ]
    }
   ],
   "source": [
    "import pandas as pd\n",
    "\n",
    "#Group by product_id and count the occurrences\n",
    "product_sales = data['product_id'].value_counts()\n",
    "\n",
    "# Display the products with the highest sales volume\n",
    "top_products = product_sales.head(5)  # Change 5 to the desired number of top products\n",
    "print(\"Top Products by Sales Volume:\")\n",
    "print(top_products)"
   ]
  },
  {
   "cell_type": "markdown",
   "metadata": {},
   "source": [
    "Problem Statement:4"
   ]
  },
  {
   "cell_type": "code",
   "execution_count": 21,
   "metadata": {},
   "outputs": [
    {
     "name": "stdout",
     "output_type": "stream",
     "text": [
      "Categories with significantly higher sales compared to others:\n",
      "                              category_code         price\n",
      "475                  electronics.smartphone  1.026423e+08\n",
      "417        appliances.kitchen.refrigerators  3.150800e+07\n",
      "445                      computers.notebook  3.135463e+07\n",
      "479                    electronics.video.tv  2.930123e+07\n",
      "420               appliances.kitchen.washer  1.847255e+07\n",
      "400           appliances.environment.vacuum  9.238063e+06\n",
      "396  appliances.environment.air_conditioner  7.231900e+06\n",
      "410                 appliances.kitchen.hood  6.947358e+06\n"
     ]
    }
   ],
   "source": [
    "# Group the data by category and calculate the total sales for each category\n",
    "category_sales = data.groupby('category_code')['price'].sum().reset_index()\n",
    "\n",
    "# Sort the categories by total sales in descending order\n",
    "category_sales = category_sales.sort_values(by='price', ascending=False)\n",
    "\n",
    "# Identify categories with significantly higher sales compared to others\n",
    "# You can set a threshold for what constitutes \"significantly higher\" and filter the categories accordingly\n",
    "threshold = category_sales['price'].mean() + category_sales['price'].std()  # Example threshold (mean + 1 standard deviation)\n",
    "significant_categories = category_sales[category_sales['price'] > threshold]\n",
    "\n",
    "print(\"Categories with significantly higher sales compared to others:\")\n",
    "print(significant_categories)"
   ]
  },
  {
   "cell_type": "markdown",
   "metadata": {},
   "source": [
    "Problem Statement:5"
   ]
  },
  {
   "cell_type": "code",
   "execution_count": 22,
   "metadata": {},
   "outputs": [
    {
     "name": "stdout",
     "output_type": "stream",
     "text": [
      "                              category_code         price\n",
      "475                  electronics.smartphone  1.026423e+08\n",
      "417        appliances.kitchen.refrigerators  3.150800e+07\n",
      "445                      computers.notebook  3.135463e+07\n",
      "479                    electronics.video.tv  2.930123e+07\n",
      "420               appliances.kitchen.washer  1.847255e+07\n",
      "400           appliances.environment.vacuum  9.238063e+06\n",
      "396  appliances.environment.air_conditioner  7.231900e+06\n",
      "410                 appliances.kitchen.hood  6.947358e+06\n",
      "476                      electronics.tablet  5.407511e+06\n",
      "416                 appliances.kitchen.oven  5.399659e+06\n"
     ]
    },
    {
     "data": {
      "image/png": "[encoded data removed]",
      "text/plain": [
       "<Figure size 500x500 with 1 Axes>"
      ]
     },
     "metadata": {},
     "output_type": "display_data"
    }
   ],
   "source": [
    "# Group by category_code and calculate total sales (sum of prices)\n",
    "category_sales = data.groupby('category_code')['price'].sum().reset_index()\n",
    "\n",
    "# Sort the categories by total sales in descending order\n",
    "category_sales = category_sales.sort_values(by='price', ascending=False)\n",
    "\n",
    "# Visualize the top categories by sales\n",
    "top_categories = category_sales.head(10)  \n",
    "print(top_categories)\n",
    "\n",
    "import matplotlib.pyplot as plt\n",
    "\n",
    "plt.figure(figsize=(5,5))\n",
    "plt.bar(top_categories['category_code'], top_categories['price'], color='skyblue')\n",
    "plt.xlabel('Category')\n",
    "plt.ylabel('Total Sales')\n",
    "plt.title('Top 10 Categories by Sales')\n",
    "plt.xticks(rotation=45, ha='right')  # Rotate category labels for better readability\n",
    "plt.tight_layout()\n",
    "plt.show()"
   ]
  },
  {
   "cell_type": "markdown",
   "metadata": {},
   "source": [
    "Problem Statement:6"
   ]
  },
  {
   "cell_type": "code",
   "execution_count": 23,
   "metadata": {},
   "outputs": [
    {
     "name": "stdout",
     "output_type": "stream",
     "text": [
      "                     brand   count\n",
      "22822              samsung  358928\n",
      "22185                  ava  118161\n",
      "22908                tefal   78653\n",
      "22158                apple   74709\n",
      "22485               huawei   57438\n",
      "...                    ...     ...\n",
      "10275  1515915625512085546       1\n",
      "10278  1515915625512085553       1\n",
      "10279  1515915625512085555       1\n",
      "10280  1515915625512085559       1\n",
      "11510  1515915625512238798       1\n",
      "\n",
      "[23021 rows x 2 columns]\n",
      "         brand   count\n",
      "22822  samsung  358928\n",
      "22185      ava  118161\n",
      "22908    tefal   78653\n",
      "22158    apple   74709\n",
      "22485   huawei   57438\n",
      "22588       lg   55685\n",
      "22749  philips   52327\n",
      "22679      neo   42638\n",
      "22759  polaris   40663\n",
      "22716     oppo   36445\n"
     ]
    }
   ],
   "source": [
    "brand_count=data.groupby('brand').size().reset_index(name='count')\n",
    "mostPreferred_brand=brand_count.sort_values(by='count' ,ascending=False)\n",
    "print(mostPreferred_brand)\n",
    "# or\n",
    "#top 10m brands\n",
    "Top_brands=mostPreferred_brand.head(10)\n",
    "print(Top_brands)"
   ]
  },
  {
   "cell_type": "markdown",
   "metadata": {},
   "source": [
    "Problem Statement:7"
   ]
  },
  {
   "cell_type": "code",
   "execution_count": 24,
   "metadata": {},
   "outputs": [
    {
     "data": {
      "image/png": "[encoded data removed]",
      "text/plain": [
       "<Figure size 500x500 with 1 Axes>"
      ]
     },
     "metadata": {},
     "output_type": "display_data"
    },
    {
     "name": "stdout",
     "output_type": "stream",
     "text": [
      "Correlation coefficient: -0.025091837587564805\n"
     ]
    }
   ],
   "source": [
    "# Group by product_id, calculate average price and total sales volume\n",
    "product_stats = data.groupby('product_id').agg({\n",
    "    'price': 'mean',\n",
    "    'order_id': 'count'  # assuming each row represents a single purchase\n",
    "}).rename(columns={'order_id': 'sales_volume'})\n",
    "\n",
    "# Plot the relationship between average price and sales volume\n",
    "plt.figure(figsize=(5,5))\n",
    "plt.scatter(product_stats['price'], product_stats['sales_volume'], alpha=0.5)\n",
    "plt.title('Product Price vs. Sales Volume')\n",
    "plt.xlabel('Average Price')\n",
    "plt.ylabel('Sales Volume')\n",
    "plt.grid(True)\n",
    "plt.show()\n",
    "\n",
    "# Calculate correlation coefficient\n",
    "correlation = product_stats['price'].corr(product_stats['sales_volume'])\n",
    "print(\"Correlation coefficient:\", correlation)"
   ]
  },
  {
   "cell_type": "markdown",
   "metadata": {},
   "source": [
    "Problem Statement:8"
   ]
  },
  {
   "cell_type": "code",
   "execution_count": 25,
   "metadata": {},
   "outputs": [
    {
     "name": "stdout",
     "output_type": "stream",
     "text": [
      "Number of unique customers: 98262\n"
     ]
    }
   ],
   "source": [
    "# Assuming 'user_id' is the column name for user IDs\n",
    "unique_customers = data['user_id'].nunique()\n",
    "\n",
    "print(\"Number of unique customers:\", unique_customers)"
   ]
  },
  {
   "cell_type": "markdown",
   "metadata": {},
   "source": [
    "Problem Statement:9"
   ]
  },
  {
   "cell_type": "code",
   "execution_count": 26,
   "metadata": {},
   "outputs": [
    {
     "name": "stdout",
     "output_type": "stream",
     "text": [
      "              Total Purchases  Total Spending  Avg Spending Per Purchase  \\\n",
      "user_id                                                                    \n",
      "1.515916e+18                1          416.64                 416.640000   \n",
      "1.515916e+18                2           56.43                  28.215000   \n",
      "1.515916e+18               14         7530.34                 537.881429   \n",
      "1.515916e+18               24         5074.47                 211.436250   \n",
      "1.515916e+18                2          182.83                  91.415000   \n",
      "...                       ...             ...                        ...   \n",
      "1.515916e+18                1          208.31                 208.310000   \n",
      "1.515916e+18                1         3472.20                3472.200000   \n",
      "1.515916e+18                3          752.49                 250.830000   \n",
      "1.515916e+18                1          925.67                 925.670000   \n",
      "1.515916e+18                1          418.96                 418.960000   \n",
      "\n",
      "              Unique Products Purchased  Avg Products Per Purchase  \n",
      "user_id                                                             \n",
      "1.515916e+18                          1                        1.0  \n",
      "1.515916e+18                          2                        1.0  \n",
      "1.515916e+18                         13                        1.0  \n",
      "1.515916e+18                         18                        1.0  \n",
      "1.515916e+18                          2                        1.0  \n",
      "...                                 ...                        ...  \n",
      "1.515916e+18                          1                        1.0  \n",
      "1.515916e+18                          1                        1.0  \n",
      "1.515916e+18                          2                        1.0  \n",
      "1.515916e+18                          1                        1.0  \n",
      "1.515916e+18                          1                        1.0  \n",
      "\n",
      "[98262 rows x 5 columns]\n"
     ]
    }
   ],
   "source": [
    "grouped_data=data.groupby('user_id')\n",
    "total_purchases=grouped_data.size()\n",
    "total_spending=grouped_data['price'].sum()\n",
    "average_spending_per_purchase =total_spending / total_purchases\n",
    "\n",
    "# Calculate number of unique products purchased per user\n",
    "unique_products = grouped_data['product_id'].nunique()\n",
    "\n",
    "# Calculate average number of products purchased per user\n",
    "average_products_per_purchase = grouped_data['product_id'].size() / total_purchases\n",
    "\n",
    "# Create a DataFrame to store the results\n",
    "customer_behavior = pd.DataFrame({\n",
    "    'Total Purchases': total_purchases,\n",
    "    'Total Spending': total_spending,\n",
    "    'Avg Spending Per Purchase': average_spending_per_purchase,\n",
    "    'Unique Products Purchased': unique_products,\n",
    "    'Avg Products Per Purchase': average_products_per_purchase\n",
    "})\n",
    "\n",
    "# Display the DataFrame\n",
    "print(customer_behavior)\n"
   ]
  },
  {
   "cell_type": "markdown",
   "metadata": {},
   "source": [
    "Problem Statement:10"
   ]
  },
  {
   "cell_type": "code",
   "execution_count": 27,
   "metadata": {},
   "outputs": [
    {
     "name": "stdout",
     "output_type": "stream",
     "text": [
      "        user_id  purchase_count  total_spent\n",
      "0  1.515916e+18               1       416.64\n",
      "1  1.515916e+18               2        56.43\n",
      "2  1.515916e+18              14      7530.34\n",
      "3  1.515916e+18              24      5074.47\n",
      "4  1.515916e+18               2       182.83\n"
     ]
    }
   ],
   "source": [
    "# Calculate the frequency of purchases per user\n",
    "purchase_frequency = data.groupby('user_id').size().reset_index(name='purchase_count')\n",
    "\n",
    "# Calculate the total amount spent by each user\n",
    "total_spent = data.groupby('user_id')['price'].sum().reset_index(name='total_spent')\n",
    "\n",
    "# Merge the two DataFrames\n",
    "user_summary = pd.merge(purchase_frequency, total_spent, on='user_id')\n",
    "\n",
    "# Display the summary\n",
    "print(user_summary.head())"
   ]
  },
  {
   "cell_type": "markdown",
   "metadata": {},
   "source": [
    "Problem Statement:11"
   ]
  },
  {
   "cell_type": "code",
   "execution_count": 28,
   "metadata": {},
   "outputs": [
    {
     "name": "stdout",
     "output_type": "stream",
     "text": [
      "       price  user_id\n",
      "1236  138.87     7491\n",
      "1520  208.31     6000\n",
      "1763  300.90     5879\n",
      "429    13.87     4894\n",
      "1123  115.72     4839\n",
      "531    23.13     4635\n",
      "393    11.55     4516\n",
      "485    18.50     4332\n",
      "1653  254.61     4280\n",
      "1838  347.20     4172\n"
     ]
    }
   ],
   "source": [
    "# Grouping the data by price and counting the number of unique user IDs\n",
    "price_counts = data.groupby('price')['user_id'].nunique().reset_index()\n",
    "\n",
    "# Sorting the results by the number of unique user IDs in descending order\n",
    "price_counts_sorted = price_counts.sort_values(by='user_id', ascending=False)\n",
    "\n",
    "# Displaying the top price points that attract more customers\n",
    "top_price_points = price_counts_sorted.head(10)\n",
    "print(top_price_points)"
   ]
  },
  {
   "cell_type": "markdown",
   "metadata": {},
   "source": [
    "Problem Statement:12"
   ]
  },
  {
   "cell_type": "code",
   "execution_count": 29,
   "metadata": {},
   "outputs": [
    {
     "name": "stdout",
     "output_type": "stream",
     "text": [
      "           total_sales  total_orders  avg_sales_per_order\n",
      "day_type                                                 \n",
      "Weekday   2.384781e+08       1026667           232.283767\n",
      "Weekend   1.007683e+08        408599           246.619179\n"
     ]
    },
    {
     "data": {
      "image/png": "[encoded data removed]",
      "text/plain": [
       "<Figure size 640x480 with 1 Axes>"
      ]
     },
     "metadata": {},
     "output_type": "display_data"
    }
   ],
   "source": [
    "# Convert 'event_time' to datetime format\n",
    "data['event_time'] = pd.to_datetime(data['event_time'])\n",
    "\n",
    "# Extract the weekday from 'event_time'\n",
    "data['weekday'] = data['event_time'].dt.dayofweek  # Monday=0, Sunday=6\n",
    "\n",
    "# Map weekdays to 'Weekday' or 'Weekend'\n",
    "data['day_type'] = data['weekday'].map({0: 'Weekday', 1: 'Weekday', 2: 'Weekday', 3: 'Weekday', 4: 'Weekday', 5: 'Weekend', 6: 'Weekend'})\n",
    "\n",
    "# Group the data by 'day_type' and calculate sales metrics\n",
    "sales_summary = data.groupby('day_type').agg({'price': 'sum', 'order_id': 'nunique'})\n",
    "\n",
    "# Rename columns for clarity\n",
    "sales_summary.rename(columns={'price': 'total_sales', 'order_id': 'total_orders'}, inplace=True)\n",
    "\n",
    "# Calculate average sales per order\n",
    "sales_summary['avg_sales_per_order'] = sales_summary['total_sales'] / sales_summary['total_orders']\n",
    "\n",
    "# Print the sales summary\n",
    "print(sales_summary)\n",
    "\n",
    "# Visualize the sales differences\n",
    "sales_summary.plot(kind='bar', y='total_sales', title='Total Sales by Day Type', ylabel='Total Sales ($)')\n",
    "plt.show()"
   ]
  },
  {
   "cell_type": "markdown",
   "metadata": {},
   "source": [
    "Problem Statement:13"
   ]
  },
  {
   "cell_type": "code",
   "execution_count": 30,
   "metadata": {},
   "outputs": [
    {
     "name": "stdout",
     "output_type": "stream",
     "text": [
      "category_code\n",
      "electronics.smartphone              1.026423e+08\n",
      "appliances.kitchen.refrigerators    3.150800e+07\n",
      "computers.notebook                  3.135463e+07\n",
      "electronics.video.tv                2.930123e+07\n",
      "appliances.kitchen.washer           1.847255e+07\n",
      "Name: price, dtype: float64\n"
     ]
    }
   ],
   "source": [
    "# Group by category_code and sum the revenue\n",
    "category_revenue = data.groupby('category_code')['price'].sum()\n",
    "\n",
    "# Sort categories by total revenue in descending order\n",
    "category_revenue_sorted = category_revenue.sort_values(ascending=False)\n",
    "\n",
    "# Print the top contributing categories\n",
    "print(category_revenue_sorted.head())"
   ]
  },
  {
   "cell_type": "markdown",
   "metadata": {},
   "source": [
    "Problem Statement:14"
   ]
  },
  {
   "cell_type": "code",
   "execution_count": 31,
   "metadata": {},
   "outputs": [
    {
     "name": "stdout",
     "output_type": "stream",
     "text": [
      "Categories experiencing a decline in sales:\n",
      "Index([], dtype='float64', name='category_id')\n"
     ]
    }
   ],
   "source": [
    " #Create a pivot table to aggregate sales by category and month\n",
    "category_sales_pivot = data.pivot_table(index='event_time', columns='category_id', aggfunc='size', fill_value=0)\n",
    "\n",
    "# Resample the data to monthly frequency and sum the sales for each category\n",
    "category_sales_monthly = category_sales_pivot.resample('M').sum()\n",
    "\n",
    "# Calculate the percentage change in sales for each category over the past 12 months\n",
    "percentage_change = category_sales_monthly.pct_change(periods=12)\n",
    "\n",
    "#Identify categories experiencing a decline in sales\n",
    "declining_categories = percentage_change.iloc[-1] < 0\n",
    "\n",
    "# Print the declining categories\n",
    "print(\"Categories experiencing a decline in sales:\")\n",
    "print(declining_categories[declining_categories].index)"
   ]
  },
  {
   "cell_type": "markdown",
   "metadata": {},
   "source": [
    "Problem Statement:15"
   ]
  },
  {
   "cell_type": "code",
   "execution_count": 32,
   "metadata": {},
   "outputs": [
    {
     "name": "stdout",
     "output_type": "stream",
     "text": [
      "         user_id       price\n",
      "cluster                     \n",
      "0         115524  261.797484\n",
      "1         136794  257.980943\n",
      "2         168400  245.809993\n"
     ]
    }
   ],
   "source": [
    "import pandas as pd\n",
    "from sklearn.cluster import KMeans\n",
    "from sklearn.preprocessing import StandardScaler\n",
    "\n",
    "# Drop rows with missing values\n",
    "data.dropna(inplace=True)\n",
    "\n",
    "# Check if all selected columns exist in the dataset\n",
    "selected_columns = ['user_id', 'product_id', 'price']\n",
    "missing_columns = [col for col in selected_columns if col not in data.columns]\n",
    "\n",
    "if missing_columns:\n",
    "    raise KeyError(f\"Column(s) {', '.join(missing_columns)} not found in the dataset.\")\n",
    "\n",
    "# Feature selection\n",
    "X = data[selected_columns]\n",
    "\n",
    "# Data normalization\n",
    "X_scaled = StandardScaler().fit_transform(X)\n",
    "\n",
    "# Perform KMeans clustering\n",
    "data['cluster'] = KMeans(n_clusters=3, random_state=42).fit_predict(X_scaled)\n",
    "\n",
    "# Analyze clusters\n",
    "cluster_summary = data.groupby('cluster').agg({'user_id': 'count', 'price': 'mean'})\n",
    "print(cluster_summary)"
   ]
  },
  {
   "cell_type": "markdown",
   "metadata": {},
   "source": [
    "# ML Statements"
   ]
  },
  {
   "cell_type": "markdown",
   "metadata": {},
   "source": [
    "To address the business problem of enhancing marketing strategy and customer experience in e-commerce using machine learning, we can employ unsupervised learning techniques such as clustering, specifically focusing on customer segmentation."
   ]
  },
  {
   "cell_type": "code",
   "execution_count": 33,
   "metadata": {},
   "outputs": [
    {
     "data": {
      "image/png": "[encoded data removed]",
      "text/plain": [
       "<Figure size 1000x600 with 1 Axes>"
      ]
     },
     "metadata": {},
     "output_type": "display_data"
    },
    {
     "name": "stdout",
     "output_type": "stream",
     "text": [
      "             order_id    product_id   category_id       price       user_id  \\\n",
      "cluster                                                                       \n",
      "0        2.358951e+18  1.660082e+18  2.274583e+18  261.799362  1.515916e+18   \n",
      "1        2.386674e+18  1.710626e+18  2.273902e+18  258.168277  1.515916e+18   \n",
      "2        2.365148e+18  1.660670e+18  2.274428e+18  245.634501  1.515916e+18   \n",
      "\n",
      "          weekday  cluster  \n",
      "cluster                     \n",
      "0        2.976921      0.0  \n",
      "1        3.242752      1.0  \n",
      "2        2.977645      2.0  \n"
     ]
    }
   ],
   "source": [
    "# Select relevant features for clustering\n",
    "features = ['price', 'user_id']\n",
    "\n",
    "# Preprocess the data\n",
    "scaler = StandardScaler()\n",
    "scaled_data = scaler.fit_transform(data[features])\n",
    "\n",
    "# Define the number of clusters\n",
    "num_clusters = 3\n",
    "\n",
    "# Apply K-means clustering\n",
    "kmeans = KMeans(n_clusters=num_clusters, random_state=42)\n",
    "data['cluster'] = kmeans.fit_predict(scaled_data)\n",
    "\n",
    "# Visualize the clusters\n",
    "plt.figure(figsize=(10, 6))\n",
    "for cluster in range(num_clusters):\n",
    "    cluster_data = data[data['cluster'] == cluster]\n",
    "    plt.scatter(cluster_data['price'], cluster_data['user_id'], label=f'Cluster {cluster}')\n",
    "\n",
    "plt.xlabel('Price')\n",
    "plt.ylabel('User ID')\n",
    "plt.title('Clustering of Users based on Purchase Behavior')\n",
    "plt.legend()\n",
    "plt.show()\n",
    "\n",
    "# Analyze cluster characteristics\n",
    "numeric_columns = data.select_dtypes(include=['int', 'float']).columns\n",
    "cluster_means = data.groupby('cluster')[numeric_columns].mean()\n",
    "print(cluster_means)"
   ]
  },
  {
   "cell_type": "markdown",
   "metadata": {},
   "source": [
    "## ML Conclusion:"
   ]
  },
  {
   "cell_type": "markdown",
   "metadata": {},
   "source": [
    "### Clustering Results:\n",
    "\n",
    "The K-means algorithm divided customers into three distinct clusters based on their purchase behavior.\n",
    "Each cluster represents a group of customers with similar purchasing patterns and preferences.\n",
    "Visualizing the clusters in a scatter plot showed clear boundaries between clusters, indicating well-defined segments.\n",
    "### Cluster Characteristics:\n",
    "\n",
    "Cluster 0: This cluster may represent customers who make low-value purchases, as indicated by lower average prices. They might include occasional or price-sensitive buyers.\n",
    "Cluster 1: This cluster likely consists of customers who make high-value purchases, as indicated by higher average prices. They might be loyal or high-spending customers.\n",
    "Cluster 2: This cluster could represent customers with moderate purchasing behavior falling between Clusters 0 and 1 in terms of average prices.\n",
    "### Marketing Implications:\n",
    "\n",
    "Tailored Strategies: Based on the distinct characteristics of each cluster, marketers can develop tailored marketing strategies to engage customers more effectively.\n",
    "Personalized Offers: Understanding the preferences of each cluster allows for the creation of personalized offers and promotions to incentivize purchases.\n",
    "Customer Retention: Identifying high-value clusters enables focusing retention efforts on retaining these valuable customers, potentially through loyalty programs or exclusive benefits.\n",
    "### Further Analysis:\n",
    "\n",
    "Customer Profiling: Conducting more in-depth analysis, such as demographic profiling or product preferences within each cluster, can provide deeper insights into customer segments.\n",
    "Evaluation Metrics: Monitoring key performance metrics such as sales revenue, conversion rates, and customer satisfaction within each cluster helps assess the effectiveness of marketing strategies.\n",
    "Iterative Refinement: Continuously refine clustering models and marketing strategies based on feedback and evolving customer behavior to ensure relevance and effectiveness over time."
   ]
  }
 ],
 "metadata": {
  "kernelspec": {
   "display_name": ".env",
   "language": "python",
   "name": "python3"
  },
  "language_info": {
   "codemirror_mode": {
    "name": "ipython",
    "version": 3
   },
   "file_extension": ".py",
   "mimetype": "text/x-python",
   "name": "python",
   "nbconvert_exporter": "python",
   "pygments_lexer": "ipython3",
   "version": "3.12.1"
  }
 },
 "nbformat": 4,
 "nbformat_minor": 2
}
